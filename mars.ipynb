{
 "cells": [
  {
   "cell_type": "code",
   "execution_count": 1,
   "outputs": [],
   "source": [
    "from osgeo import gdal\n",
    "gdal.UseExceptions()\n",
    "\n",
    "ds: gdal.Dataset = gdal.Open(\"./mola_data.tif\")"
   ],
   "metadata": {
    "collapsed": false,
    "pycharm": {
     "name": "#%%\n"
    }
   }
  },
  {
   "cell_type": "code",
   "execution_count": 20,
   "metadata": {
    "pycharm": {
     "name": "#%%\n"
    }
   },
   "outputs": [
    {
     "name": "stdout",
     "output_type": "stream",
     "text": [
      "Raster size: 46080 x 23040\n",
      "Min: -8061.0, Max: 20737.0, Mean: -726.00892466065, StdDev: 2970.7799910895\n"
     ]
    }
   ],
   "source": [
    "band: gdal.Band = ds.GetRasterBand(1)\n",
    "print(f\"Raster size: {band.XSize} x {band.YSize}\")\n",
    "\n",
    "minimum, maximum, mean, stddev = band.GetStatistics(True, True)\n",
    "\n",
    "print(f\"Min: {minimum}, Max: {maximum}, Mean: {mean}, StdDev: {stddev}\")"
   ]
  },
  {
   "cell_type": "code",
   "execution_count": 46,
   "metadata": {
    "pycharm": {
     "name": "#%%\n"
    }
   },
   "outputs": [],
   "source": [
    "import typing\n",
    "import struct\n",
    "\n",
    "def read_horizontal_scanline(x_offset: int, y_offset: int, width: int) -> tuple[float]:\n",
    "    scanline = band.ReadRaster(\n",
    "        xoff=x_offset,\n",
    "        yoff=y_offset,\n",
    "        xsize=width,\n",
    "        ysize=1,\n",
    "        buf_xsize=width,\n",
    "        buf_ysize=1,\n",
    "        buf_type=gdal.GDT_Float32\n",
    "    )\n",
    "\n",
    "    return typing.cast(tuple[float], struct.unpack('f' * width, scanline))\n"
   ]
  },
  {
   "cell_type": "markdown",
   "metadata": {
    "pycharm": {
     "name": "#%% md\n"
    }
   },
   "source": [
    "For example, let's try to chart the elevation of a line through Olympus Mons:"
   ]
  },
  {
   "cell_type": "code",
   "execution_count": 44,
   "metadata": {
    "pycharm": {
     "name": "#%%\n"
    },
    "scrolled": true
   },
   "outputs": [
    {
     "data": {
      "text/plain": "[<matplotlib.lines.Line2D at 0x15c0d50aa30>,\n <matplotlib.lines.Line2D at 0x15c0d50aa90>]"
     },
     "execution_count": 44,
     "metadata": {},
     "output_type": "execute_result"
    },
    {
     "data": {
      "text/plain": "<Figure size 432x288 with 1 Axes>",
      "image/png": "[encoded data removed]"
     },
     "metadata": {
      "needs_background": "light"
     },
     "output_type": "display_data"
    }
   ],
   "source": [
    "from matplotlib import pyplot as plt\n",
    "\n",
    "start_x = 5135\n",
    "end_x = 6665\n",
    "start_y = 9188  # Approximately the middle of the mountain in terms of North/South\n",
    "\n",
    "line = read_horizontal_scanline(start_x, start_y, end_x - start_x)\n",
    "\n",
    "plt.plot(line)"
   ]
  },
  {
   "attachments": {},
   "cell_type": "markdown",
   "metadata": {
    "pycharm": {
     "name": "#%% md\n"
    }
   },
   "source": [
    "Here is a top-down satellite image of the same volcano:\n",
    "![olympus_mons.png](olympus_mons.png)"
   ]
  },
  {
   "cell_type": "markdown",
   "source": [
    "Let's do the same for all our known_features."
   ],
   "metadata": {
    "collapsed": false,
    "pycharm": {
     "name": "#%% md\n"
    }
   }
  },
  {
   "cell_type": "code",
   "execution_count": 5,
   "outputs": [
    {
     "data": {
      "text/plain": "(5914, 9129)"
     },
     "execution_count": 5,
     "metadata": {},
     "output_type": "execute_result"
    }
   ],
   "source": [
    "IMAGE_HEIGHT = 23040\n",
    "IMAGE_WIDTH = 46080\n",
    "\n",
    "def coord_to_x_y(lat: float, long: float) -> tuple[float, float]:\n",
    "    \"\"\"\n",
    "    :param lat: -90 to 90\n",
    "    :param long: -180 to 180\n",
    "    :return: x, y pixel coordinates from the tiff image\n",
    "    \"\"\"\n",
    "    x = ((long + 180) / 360) * IMAGE_WIDTH\n",
    "    y = ((-lat + 90) / 180) * IMAGE_HEIGHT\n",
    "\n",
    "    return round(x), round(y)\n",
    "\n",
    "coord_to_x_y(18.68, -133.8)"
   ],
   "metadata": {
    "collapsed": false,
    "pycharm": {
     "name": "#%%\n"
    }
   }
  },
  {
   "cell_type": "code",
   "execution_count": 38,
   "outputs": [
    {
     "name": "stdout",
     "output_type": "stream",
     "text": [
      "5217 8489\n",
      "6682 9133\n"
     ]
    },
    {
     "data": {
      "text/plain": "[(8489, (5217, 5220)),\n (8490, (5219, 5222)),\n (8491, (5222, 5225)),\n (8492, (5224, 5227)),\n (8493, (5226, 5229)),\n (8494, (5228, 5231)),\n (8495, (5231, 5234)),\n (8496, (5233, 5236)),\n (8497, (5235, 5238)),\n (8498, (5237, 5240)),\n (8499, (5240, 5243)),\n (8500, (5242, 5245)),\n (8501, (5244, 5247)),\n (8502, (5247, 5250)),\n (8503, (5249, 5252)),\n (8504, (5251, 5254)),\n (8505, (5253, 5256)),\n (8506, (5256, 5259)),\n (8507, (5258, 5261)),\n (8508, (5260, 5263)),\n (8509, (5262, 5265)),\n (8510, (5265, 5268)),\n (8511, (5267, 5270)),\n (8512, (5269, 5272)),\n (8513, (5272, 5275)),\n (8514, (5274, 5277)),\n (8515, (5276, 5279)),\n (8516, (5278, 5281)),\n (8517, (5281, 5284)),\n (8518, (5283, 5286)),\n (8519, (5285, 5288)),\n (8520, (5287, 5290)),\n (8521, (5290, 5293)),\n (8522, (5292, 5295)),\n (8523, (5294, 5297)),\n (8524, (5296, 5299)),\n (8525, (5299, 5302)),\n (8526, (5301, 5304)),\n (8527, (5303, 5306)),\n (8528, (5306, 5309)),\n (8529, (5308, 5311)),\n (8530, (5310, 5313)),\n (8531, (5312, 5315)),\n (8532, (5315, 5318)),\n (8533, (5317, 5320)),\n (8534, (5319, 5322)),\n (8535, (5321, 5324)),\n (8536, (5324, 5327)),\n (8537, (5326, 5329)),\n (8538, (5328, 5331)),\n (8539, (5331, 5334)),\n (8540, (5333, 5336)),\n (8541, (5335, 5338)),\n (8542, (5337, 5340)),\n (8543, (5340, 5343)),\n (8544, (5342, 5345)),\n (8545, (5344, 5347)),\n (8546, (5346, 5349)),\n (8547, (5349, 5352)),\n (8548, (5351, 5354)),\n (8549, (5353, 5356)),\n (8550, (5356, 5359)),\n (8551, (5358, 5361)),\n (8552, (5360, 5363)),\n (8553, (5362, 5365)),\n (8554, (5365, 5368)),\n (8555, (5367, 5370)),\n (8556, (5369, 5372)),\n (8557, (5371, 5374)),\n (8558, (5374, 5377)),\n (8559, (5376, 5379)),\n (8560, (5378, 5381)),\n (8561, (5381, 5384)),\n (8562, (5383, 5386)),\n (8563, (5385, 5388)),\n (8564, (5387, 5390)),\n (8565, (5390, 5393)),\n (8566, (5392, 5395)),\n (8567, (5394, 5397)),\n (8568, (5396, 5399)),\n (8569, (5399, 5402)),\n (8570, (5401, 5404)),\n (8571, (5403, 5406)),\n (8572, (5406, 5409)),\n (8573, (5408, 5411)),\n (8574, (5410, 5413)),\n (8575, (5412, 5415)),\n (8576, (5415, 5418)),\n (8577, (5417, 5420)),\n (8578, (5419, 5422)),\n (8579, (5421, 5424)),\n (8580, (5424, 5427)),\n (8581, (5426, 5429)),\n (8582, (5428, 5431)),\n (8583, (5431, 5434)),\n (8584, (5433, 5436)),\n (8585, (5435, 5438)),\n (8586, (5437, 5440)),\n (8587, (5440, 5443)),\n (8588, (5442, 5445)),\n (8589, (5444, 5447)),\n (8590, (5446, 5449)),\n (8591, (5449, 5452)),\n (8592, (5451, 5454)),\n (8593, (5453, 5456)),\n (8594, (5455, 5458)),\n (8595, (5458, 5461)),\n (8596, (5460, 5463)),\n (8597, (5462, 5465)),\n (8598, (5465, 5468)),\n (8599, (5467, 5470)),\n (8600, (5469, 5472)),\n (8601, (5471, 5474)),\n (8602, (5474, 5477)),\n (8603, (5476, 5479)),\n (8604, (5478, 5481)),\n (8605, (5480, 5483)),\n (8606, (5483, 5486)),\n (8607, (5485, 5488)),\n (8608, (5487, 5490)),\n (8609, (5490, 5493)),\n (8610, (5492, 5495)),\n (8611, (5494, 5497)),\n (8612, (5496, 5499)),\n (8613, (5499, 5502)),\n (8614, (5501, 5504)),\n (8615, (5503, 5506)),\n (8616, (5505, 5508)),\n (8617, (5508, 5511)),\n (8618, (5510, 5513)),\n (8619, (5512, 5515)),\n (8620, (5515, 5518)),\n (8621, (5517, 5520)),\n (8622, (5519, 5522)),\n (8623, (5521, 5524)),\n (8624, (5524, 5527)),\n (8625, (5526, 5529)),\n (8626, (5528, 5531)),\n (8627, (5530, 5533)),\n (8628, (5533, 5536)),\n (8629, (5535, 5538)),\n (8630, (5537, 5540)),\n (8631, (5540, 5543)),\n (8632, (5542, 5545)),\n (8633, (5544, 5547)),\n (8634, (5546, 5549)),\n (8635, (5549, 5552)),\n (8636, (5551, 5554)),\n (8637, (5553, 5556)),\n (8638, (5555, 5558)),\n (8639, (5558, 5561)),\n (8640, (5560, 5563)),\n (8641, (5562, 5565)),\n (8642, (5565, 5568)),\n (8643, (5567, 5570)),\n (8644, (5569, 5572)),\n (8645, (5571, 5574)),\n (8646, (5574, 5577)),\n (8647, (5576, 5579)),\n (8648, (5578, 5581)),\n (8649, (5580, 5583)),\n (8650, (5583, 5586)),\n (8651, (5585, 5588)),\n (8652, (5587, 5590)),\n (8653, (5589, 5592)),\n (8654, (5592, 5595)),\n (8655, (5594, 5597)),\n (8656, (5596, 5599)),\n (8657, (5599, 5602)),\n (8658, (5601, 5604)),\n (8659, (5603, 5606)),\n (8660, (5605, 5608)),\n (8661, (5608, 5611)),\n (8662, (5610, 5613)),\n (8663, (5612, 5615)),\n (8664, (5614, 5617)),\n (8665, (5617, 5620)),\n (8666, (5619, 5622)),\n (8667, (5621, 5624)),\n (8668, (5624, 5627)),\n (8669, (5626, 5629)),\n (8670, (5628, 5631)),\n (8671, (5630, 5633)),\n (8672, (5633, 5636)),\n (8673, (5635, 5638)),\n (8674, (5637, 5640)),\n (8675, (5639, 5642)),\n (8676, (5642, 5645)),\n (8677, (5644, 5647)),\n (8678, (5646, 5649)),\n (8679, (5649, 5652)),\n (8680, (5651, 5654)),\n (8681, (5653, 5656)),\n (8682, (5655, 5658)),\n (8683, (5658, 5661)),\n (8684, (5660, 5663)),\n (8685, (5662, 5665)),\n (8686, (5664, 5667)),\n (8687, (5667, 5670)),\n (8688, (5669, 5672)),\n (8689, (5671, 5674)),\n (8690, (5674, 5677)),\n (8691, (5676, 5679)),\n (8692, (5678, 5681)),\n (8693, (5680, 5683)),\n (8694, (5683, 5686)),\n (8695, (5685, 5688)),\n (8696, (5687, 5690)),\n (8697, (5689, 5692)),\n (8698, (5692, 5695)),\n (8699, (5694, 5697)),\n (8700, (5696, 5699)),\n (8701, (5699, 5702)),\n (8702, (5701, 5704)),\n (8703, (5703, 5706)),\n (8704, (5705, 5708)),\n (8705, (5708, 5711)),\n (8706, (5710, 5713)),\n (8707, (5712, 5715)),\n (8708, (5714, 5717)),\n (8709, (5717, 5720)),\n (8710, (5719, 5722)),\n (8711, (5721, 5724)),\n (8712, (5724, 5727)),\n (8713, (5726, 5729)),\n (8714, (5728, 5731)),\n (8715, (5730, 5733)),\n (8716, (5733, 5736)),\n (8717, (5735, 5738)),\n (8718, (5737, 5740)),\n (8719, (5739, 5742)),\n (8720, (5742, 5745)),\n (8721, (5744, 5747)),\n (8722, (5746, 5749)),\n (8723, (5748, 5751)),\n (8724, (5751, 5754)),\n (8725, (5753, 5756)),\n (8726, (5755, 5758)),\n (8727, (5758, 5761)),\n (8728, (5760, 5763)),\n (8729, (5762, 5765)),\n (8730, (5764, 5767)),\n (8731, (5767, 5770)),\n (8732, (5769, 5772)),\n (8733, (5771, 5774)),\n (8734, (5773, 5776)),\n (8735, (5776, 5779)),\n (8736, (5778, 5781)),\n (8737, (5780, 5783)),\n (8738, (5783, 5786)),\n (8739, (5785, 5788)),\n (8740, (5787, 5790)),\n (8741, (5789, 5792)),\n (8742, (5792, 5795)),\n (8743, (5794, 5797)),\n (8744, (5796, 5799)),\n (8745, (5798, 5801)),\n (8746, (5801, 5804)),\n (8747, (5803, 5806)),\n (8748, (5805, 5808)),\n (8749, (5808, 5811)),\n (8750, (5810, 5813)),\n (8751, (5812, 5815)),\n (8752, (5814, 5817)),\n (8753, (5817, 5820)),\n (8754, (5819, 5822)),\n (8755, (5821, 5824)),\n (8756, (5823, 5826)),\n (8757, (5826, 5829)),\n (8758, (5828, 5831)),\n (8759, (5830, 5833)),\n (8760, (5833, 5836)),\n (8761, (5835, 5838)),\n (8762, (5837, 5840)),\n (8763, (5839, 5842)),\n (8764, (5842, 5845)),\n (8765, (5844, 5847)),\n (8766, (5846, 5849)),\n (8767, (5848, 5851)),\n (8768, (5851, 5854)),\n (8769, (5853, 5856)),\n (8770, (5855, 5858)),\n (8771, (5858, 5861)),\n (8772, (5860, 5863)),\n (8773, (5862, 5865)),\n (8774, (5864, 5867)),\n (8775, (5867, 5870)),\n (8776, (5869, 5872)),\n (8777, (5871, 5874)),\n (8778, (5873, 5876)),\n (8779, (5876, 5879)),\n (8780, (5878, 5881)),\n (8781, (5880, 5883)),\n (8782, (5882, 5885)),\n (8783, (5885, 5888)),\n (8784, (5887, 5890)),\n (8785, (5889, 5892)),\n (8786, (5892, 5895)),\n (8787, (5894, 5897)),\n (8788, (5896, 5899)),\n (8789, (5898, 5901)),\n (8790, (5901, 5904)),\n (8791, (5903, 5906)),\n (8792, (5905, 5908)),\n (8793, (5907, 5910)),\n (8794, (5910, 5913)),\n (8795, (5912, 5915)),\n (8796, (5914, 5917)),\n (8797, (5917, 5920)),\n (8798, (5919, 5922)),\n (8799, (5921, 5924)),\n (8800, (5923, 5926)),\n (8801, (5926, 5929)),\n (8802, (5928, 5931)),\n (8803, (5930, 5933)),\n (8804, (5932, 5935)),\n (8805, (5935, 5938)),\n (8806, (5937, 5940)),\n (8807, (5939, 5942)),\n (8808, (5942, 5945)),\n (8809, (5944, 5947)),\n (8810, (5946, 5949)),\n (8811, (5948, 5951)),\n (8812, (5951, 5954)),\n (8813, (5953, 5956)),\n (8814, (5955, 5958)),\n (8815, (5957, 5960)),\n (8816, (5960, 5963)),\n (8817, (5962, 5965)),\n (8818, (5964, 5967)),\n (8819, (5967, 5970)),\n (8820, (5969, 5972)),\n (8821, (5971, 5974)),\n (8822, (5973, 5976)),\n (8823, (5976, 5979)),\n (8824, (5978, 5981)),\n (8825, (5980, 5983)),\n (8826, (5982, 5985)),\n (8827, (5985, 5988)),\n (8828, (5987, 5990)),\n (8829, (5989, 5992)),\n (8830, (5992, 5995)),\n (8831, (5994, 5997)),\n (8832, (5996, 5999)),\n (8833, (5998, 6001)),\n (8834, (6001, 6004)),\n (8835, (6003, 6006)),\n (8836, (6005, 6008)),\n (8837, (6007, 6010)),\n (8838, (6010, 6013)),\n (8839, (6012, 6015)),\n (8840, (6014, 6017)),\n (8841, (6017, 6020)),\n (8842, (6019, 6022)),\n (8843, (6021, 6024)),\n (8844, (6023, 6026)),\n (8845, (6026, 6029)),\n (8846, (6028, 6031)),\n (8847, (6030, 6033)),\n (8848, (6032, 6035)),\n (8849, (6035, 6038)),\n (8850, (6037, 6040)),\n (8851, (6039, 6042)),\n (8852, (6041, 6044)),\n (8853, (6044, 6047)),\n (8854, (6046, 6049)),\n (8855, (6048, 6051)),\n (8856, (6051, 6054)),\n (8857, (6053, 6056)),\n (8858, (6055, 6058)),\n (8859, (6057, 6060)),\n (8860, (6060, 6063)),\n (8861, (6062, 6065)),\n (8862, (6064, 6067)),\n (8863, (6066, 6069)),\n (8864, (6069, 6072)),\n (8865, (6071, 6074)),\n (8866, (6073, 6076)),\n (8867, (6076, 6079)),\n (8868, (6078, 6081)),\n (8869, (6080, 6083)),\n (8870, (6082, 6085)),\n (8871, (6085, 6088)),\n (8872, (6087, 6090)),\n (8873, (6089, 6092)),\n (8874, (6091, 6094)),\n (8875, (6094, 6097)),\n (8876, (6096, 6099)),\n (8877, (6098, 6101)),\n (8878, (6101, 6104)),\n (8879, (6103, 6106)),\n (8880, (6105, 6108)),\n (8881, (6107, 6110)),\n (8882, (6110, 6113)),\n (8883, (6112, 6115)),\n (8884, (6114, 6117)),\n (8885, (6116, 6119)),\n (8886, (6119, 6122)),\n (8887, (6121, 6124)),\n (8888, (6123, 6126)),\n (8889, (6126, 6129)),\n (8890, (6128, 6131)),\n (8891, (6130, 6133)),\n (8892, (6132, 6135)),\n (8893, (6135, 6138)),\n (8894, (6137, 6140)),\n (8895, (6139, 6142)),\n (8896, (6141, 6144)),\n (8897, (6144, 6147)),\n (8898, (6146, 6149)),\n (8899, (6148, 6151)),\n (8900, (6151, 6154)),\n (8901, (6153, 6156)),\n (8902, (6155, 6158)),\n (8903, (6157, 6160)),\n (8904, (6160, 6163)),\n (8905, (6162, 6165)),\n (8906, (6164, 6167)),\n (8907, (6166, 6169)),\n (8908, (6169, 6172)),\n (8909, (6171, 6174)),\n (8910, (6173, 6176)),\n (8911, (6175, 6178)),\n (8912, (6178, 6181)),\n (8913, (6180, 6183)),\n (8914, (6182, 6185)),\n (8915, (6185, 6188)),\n (8916, (6187, 6190)),\n (8917, (6189, 6192)),\n (8918, (6191, 6194)),\n (8919, (6194, 6197)),\n (8920, (6196, 6199)),\n (8921, (6198, 6201)),\n (8922, (6200, 6203)),\n (8923, (6203, 6206)),\n (8924, (6205, 6208)),\n (8925, (6207, 6210)),\n (8926, (6210, 6213)),\n (8927, (6212, 6215)),\n (8928, (6214, 6217)),\n (8929, (6216, 6219)),\n (8930, (6219, 6222)),\n (8931, (6221, 6224)),\n (8932, (6223, 6226)),\n (8933, (6225, 6228)),\n (8934, (6228, 6231)),\n (8935, (6230, 6233)),\n (8936, (6232, 6235)),\n (8937, (6235, 6238)),\n (8938, (6237, 6240)),\n (8939, (6239, 6242)),\n (8940, (6241, 6244)),\n (8941, (6244, 6247)),\n (8942, (6246, 6249)),\n (8943, (6248, 6251)),\n (8944, (6250, 6253)),\n (8945, (6253, 6256)),\n (8946, (6255, 6258)),\n (8947, (6257, 6260)),\n (8948, (6260, 6263)),\n (8949, (6262, 6265)),\n (8950, (6264, 6267)),\n (8951, (6266, 6269)),\n (8952, (6269, 6272)),\n (8953, (6271, 6274)),\n (8954, (6273, 6276)),\n (8955, (6275, 6278)),\n (8956, (6278, 6281)),\n (8957, (6280, 6283)),\n (8958, (6282, 6285)),\n (8959, (6285, 6288)),\n (8960, (6287, 6290)),\n (8961, (6289, 6292)),\n (8962, (6291, 6294)),\n (8963, (6294, 6297)),\n (8964, (6296, 6299)),\n (8965, (6298, 6301)),\n (8966, (6300, 6303)),\n (8967, (6303, 6306)),\n (8968, (6305, 6308)),\n (8969, (6307, 6310)),\n (8970, (6310, 6313)),\n (8971, (6312, 6315)),\n (8972, (6314, 6317)),\n (8973, (6316, 6319)),\n (8974, (6319, 6322)),\n (8975, (6321, 6324)),\n (8976, (6323, 6326)),\n (8977, (6325, 6328)),\n (8978, (6328, 6331)),\n (8979, (6330, 6333)),\n (8980, (6332, 6335)),\n (8981, (6334, 6337)),\n (8982, (6337, 6340)),\n (8983, (6339, 6342)),\n (8984, (6341, 6344)),\n (8985, (6344, 6347)),\n (8986, (6346, 6349)),\n (8987, (6348, 6351)),\n (8988, (6350, 6353)),\n (8989, (6353, 6356)),\n (8990, (6355, 6358)),\n (8991, (6357, 6360)),\n (8992, (6359, 6362)),\n (8993, (6362, 6365)),\n (8994, (6364, 6367)),\n (8995, (6366, 6369)),\n (8996, (6369, 6372)),\n (8997, (6371, 6374)),\n (8998, (6373, 6376)),\n (8999, (6375, 6378)),\n (9000, (6378, 6381)),\n (9001, (6380, 6383)),\n (9002, (6382, 6385)),\n (9003, (6384, 6387)),\n (9004, (6387, 6390)),\n (9005, (6389, 6392)),\n (9006, (6391, 6394)),\n (9007, (6394, 6397)),\n (9008, (6396, 6399)),\n (9009, (6398, 6401)),\n (9010, (6400, 6403)),\n (9011, (6403, 6406)),\n (9012, (6405, 6408)),\n (9013, (6407, 6410)),\n (9014, (6409, 6412)),\n (9015, (6412, 6415)),\n (9016, (6414, 6417)),\n (9017, (6416, 6419)),\n (9018, (6419, 6422)),\n (9019, (6421, 6424)),\n (9020, (6423, 6426)),\n (9021, (6425, 6428)),\n (9022, (6428, 6431)),\n (9023, (6430, 6433)),\n (9024, (6432, 6435)),\n (9025, (6434, 6437)),\n (9026, (6437, 6440)),\n (9027, (6439, 6442)),\n (9028, (6441, 6444)),\n (9029, (6444, 6447)),\n (9030, (6446, 6449)),\n (9031, (6448, 6451)),\n (9032, (6450, 6453)),\n (9033, (6453, 6456)),\n (9034, (6455, 6458)),\n (9035, (6457, 6460)),\n (9036, (6459, 6462)),\n (9037, (6462, 6465)),\n (9038, (6464, 6467)),\n (9039, (6466, 6469)),\n (9040, (6468, 6471)),\n (9041, (6471, 6474)),\n (9042, (6473, 6476)),\n (9043, (6475, 6478)),\n (9044, (6478, 6481)),\n (9045, (6480, 6483)),\n (9046, (6482, 6485)),\n (9047, (6484, 6487)),\n (9048, (6487, 6490)),\n (9049, (6489, 6492)),\n (9050, (6491, 6494)),\n (9051, (6493, 6496)),\n (9052, (6496, 6499)),\n (9053, (6498, 6501)),\n (9054, (6500, 6503)),\n (9055, (6503, 6506)),\n (9056, (6505, 6508)),\n (9057, (6507, 6510)),\n (9058, (6509, 6512)),\n (9059, (6512, 6515)),\n (9060, (6514, 6517)),\n (9061, (6516, 6519)),\n (9062, (6518, 6521)),\n (9063, (6521, 6524)),\n (9064, (6523, 6526)),\n (9065, (6525, 6528)),\n (9066, (6528, 6531)),\n (9067, (6530, 6533)),\n (9068, (6532, 6535)),\n (9069, (6534, 6537)),\n (9070, (6537, 6540)),\n (9071, (6539, 6542)),\n (9072, (6541, 6544)),\n (9073, (6543, 6546)),\n (9074, (6546, 6549)),\n (9075, (6548, 6551)),\n (9076, (6550, 6553)),\n (9077, (6553, 6556)),\n (9078, (6555, 6558)),\n (9079, (6557, 6560)),\n (9080, (6559, 6562)),\n (9081, (6562, 6565)),\n (9082, (6564, 6567)),\n (9083, (6566, 6569)),\n (9084, (6568, 6571)),\n (9085, (6571, 6574)),\n (9086, (6573, 6576)),\n (9087, (6575, 6578)),\n (9088, (6578, 6581)),\n (9089, (6580, 6583)),\n (9090, (6582, 6585)),\n (9091, (6584, 6587)),\n (9092, (6587, 6590)),\n (9093, (6589, 6592)),\n (9094, (6591, 6594)),\n (9095, (6593, 6596)),\n (9096, (6596, 6599)),\n (9097, (6598, 6601)),\n (9098, (6600, 6603)),\n (9099, (6603, 6606)),\n (9100, (6605, 6608)),\n (9101, (6607, 6610)),\n (9102, (6609, 6612)),\n (9103, (6612, 6615)),\n (9104, (6614, 6617)),\n (9105, (6616, 6619)),\n (9106, (6618, 6621)),\n (9107, (6621, 6624)),\n (9108, (6623, 6626)),\n (9109, (6625, 6628)),\n (9110, (6627, 6630)),\n (9111, (6630, 6633)),\n (9112, (6632, 6635)),\n (9113, (6634, 6637)),\n (9114, (6637, 6640)),\n (9115, (6639, 6642)),\n (9116, (6641, 6644)),\n (9117, (6643, 6646)),\n (9118, (6646, 6649)),\n (9119, (6648, 6651)),\n (9120, (6650, 6653)),\n (9121, (6652, 6655)),\n (9122, (6655, 6658)),\n (9123, (6657, 6660)),\n (9124, (6659, 6662)),\n (9125, (6662, 6665)),\n (9126, (6664, 6667)),\n (9127, (6666, 6669)),\n (9128, (6668, 6671)),\n (9129, (6671, 6674)),\n (9130, (6673, 6676)),\n (9131, (6675, 6678)),\n (9132, (6677, 6680)),\n (9133, (6680, 6683))]"
     },
     "execution_count": 38,
     "metadata": {},
     "output_type": "execute_result"
    }
   ],
   "source": [
    "def get_scanlines_to_read(start_x: int, end_x: int, start_y: int, end_y: int) -> list[tuple[int, tuple[int, int]]]:\n",
    "    slope = (end_x - start_x) / (end_y - start_y + 1)  # For every y, how many x's do we change\n",
    "    x_size = round(slope) + 1\n",
    "\n",
    "    result = []\n",
    "\n",
    "    for y in range(start_y, end_y + 1):\n",
    "        first_x = round(slope * (y - start_y)) + start_x\n",
    "        last_x = first_x + x_size\n",
    "\n",
    "        result.append((y, (first_x, last_x)))\n",
    "\n",
    "    return result\n",
    "\n",
    "# start_x, start_y = coord_to_x_y(23.68, -139.24)\n",
    "# end_x, end_y = coord_to_x_y(18.65, -127.8)\n",
    "# end_x, end_y = coord_to_x_y(23.67, -127.8)\n",
    "# end_x, end_y = coord_to_x_y(18.65, -139.24)\n",
    "\n",
    "# print(start_x, start_y)\n",
    "# print(end_x, end_y)\n",
    "#\n",
    "# get_scanlines_to_read(start_x, end_x, start_y, end_y)"
   ],
   "metadata": {
    "collapsed": false,
    "pycharm": {
     "name": "#%%\n"
    }
   }
  },
  {
   "cell_type": "code",
   "execution_count": 59,
   "outputs": [
    {
     "data": {
      "text/plain": "[<matplotlib.lines.Line2D at 0x15c0e9df580>]"
     },
     "execution_count": 59,
     "metadata": {},
     "output_type": "execute_result"
    },
    {
     "data": {
      "text/plain": "<Figure size 432x288 with 1 Axes>",
      "image/png": "[encoded data removed]"
     },
     "metadata": {
      "needs_background": "light"
     },
     "output_type": "display_data"
    }
   ],
   "source": [
    "def read_line(start_x: int, start_y: int, end_x: int, end_y: int) -> list[float]:\n",
    "    lines = get_scanlines_to_read(start_x, end_x, start_y, end_y)\n",
    "\n",
    "    result = []\n",
    "\n",
    "    for line in lines:\n",
    "        y = line[0]\n",
    "        x = line[1]\n",
    "        result += read_horizontal_scanline(x[0], y, x[1] - x[0])\n",
    "\n",
    "    return result\n",
    "\n",
    "start_x, start_y = coord_to_x_y(23.68, -139.24)\n",
    "end_x, end_y = coord_to_x_y(13.48, -127.8)\n",
    "\n",
    "line = read_line(start_x, start_y, end_x, end_y)\n",
    "\n",
    "plt.plot(line)"
   ],
   "metadata": {
    "collapsed": false,
    "pycharm": {
     "name": "#%%\n"
    }
   }
  },
  {
   "cell_type": "code",
   "execution_count": null,
   "outputs": [],
   "source": [
    "def normalize(line: tuple[float]) -> list[tuple[float, float]]:\n",
    "    length = len(line)\n",
    "\n",
    "    min_height = min(line)\n",
    "    max_height = max(line)\n",
    "\n",
    "    height_diff = max_height - min_height\n",
    "\n",
    "    return [(i/length, (line[i] - min_height) / height_diff) for i in range(length)]\n",
    "\n",
    "normalized = normalize(line)\n",
    "\n",
    "xs, ys = zip(*normalized)\n",
    "\n",
    "plt.plot(xs, ys)"
   ],
   "metadata": {
    "collapsed": false,
    "pycharm": {
     "name": "#%%\n"
    }
   }
  },
  {
   "cell_type": "code",
   "execution_count": 78,
   "outputs": [
    {
     "name": "stdout",
     "output_type": "stream",
     "text": [
      "{}\n",
      "{}\n",
      "{}\n",
      "{}\n",
      "{}\n",
      "{}\n",
      "{}\n",
      "{}\n",
      "{}\n",
      "{}\n",
      "{}\n",
      "{}\n",
      "{}\n",
      "{}\n",
      "{}\n",
      "{}\n",
      "{}\n",
      "{}\n",
      "{}\n",
      "{}\n",
      "{}\n",
      "{}\n",
      "{}\n",
      "{}\n",
      "{}\n",
      "{}\n",
      "{}\n",
      "{}\n",
      "{}\n",
      "{}\n",
      "{}\n",
      "{}\n",
      "{}\n",
      "{}\n",
      "{}\n",
      "{}\n",
      "{}\n",
      "{}\n",
      "{}\n",
      "{}\n",
      "{}\n",
      "{}\n",
      "{}\n",
      "{}\n",
      "{}\n",
      "{}\n",
      "{}\n",
      "{}\n",
      "{}\n",
      "{}\n",
      "{}\n",
      "{}\n",
      "{}\n",
      "{}\n",
      "{}\n",
      "{}\n",
      "{}\n",
      "{}\n",
      "{}\n",
      "{}\n",
      "{}\n",
      "{}\n",
      "{}\n",
      "{}\n",
      "{}\n",
      "{}\n",
      "{}\n",
      "{}\n",
      "{}\n",
      "{}\n",
      "{}\n",
      "{}\n",
      "{}\n",
      "{}\n",
      "{}\n",
      "{}\n",
      "{}\n",
      "{}\n",
      "{}\n",
      "{}\n",
      "{}\n",
      "{}\n",
      "{}\n",
      "{}\n",
      "{}\n",
      "{}\n",
      "{}\n",
      "{}\n",
      "{}\n",
      "{}\n",
      "{}\n",
      "{}\n",
      "{}\n",
      "{}\n",
      "{}\n",
      "{}\n",
      "{}\n",
      "{}\n",
      "{}\n",
      "{}\n",
      "{}\n",
      "{}\n",
      "{}\n",
      "{}\n",
      "{}\n",
      "{}\n",
      "{}\n",
      "{}\n",
      "{}\n",
      "{}\n",
      "{}\n",
      "{}\n",
      "{}\n",
      "{}\n",
      "{}\n",
      "{}\n",
      "{}\n",
      "{}\n",
      "{}\n",
      "{}\n",
      "{}\n",
      "{}\n",
      "{}\n",
      "{}\n",
      "{}\n",
      "{}\n",
      "{}\n",
      "{}\n",
      "{}\n",
      "{}\n",
      "{}\n",
      "{}\n",
      "{}\n",
      "{}\n",
      "{}\n",
      "{}\n",
      "{}\n",
      "{}\n",
      "{}\n",
      "{}\n",
      "{}\n",
      "{}\n",
      "{}\n",
      "{}\n",
      "{}\n",
      "{}\n",
      "{}\n",
      "{}\n",
      "{}\n",
      "{}\n",
      "{}\n",
      "{}\n",
      "{}\n",
      "{}\n",
      "{}\n",
      "{}\n",
      "{}\n",
      "{}\n",
      "{}\n",
      "{}\n",
      "{}\n",
      "{}\n",
      "{}\n",
      "{}\n",
      "{}\n",
      "{}\n",
      "{}\n",
      "{}\n",
      "{}\n",
      "{}\n",
      "{}\n",
      "{}\n",
      "{}\n",
      "{}\n",
      "{}\n",
      "{}\n",
      "{}\n",
      "{}\n",
      "{}\n",
      "{}\n",
      "{}\n",
      "{}\n",
      "{}\n",
      "{}\n",
      "{}\n",
      "{}\n",
      "{}\n",
      "{}\n",
      "{}\n",
      "{}\n",
      "{}\n",
      "{}\n",
      "{}\n",
      "{}\n",
      "{}\n",
      "{}\n",
      "{}\n",
      "{}\n",
      "{}\n",
      "{}\n",
      "{}\n",
      "{}\n",
      "{}\n",
      "{}\n",
      "{}\n",
      "{}\n",
      "{}\n",
      "{}\n",
      "{}\n",
      "{}\n",
      "{}\n",
      "{}\n",
      "{}\n",
      "{}\n",
      "{}\n",
      "{}\n",
      "{}\n",
      "{}\n",
      "{}\n",
      "{}\n",
      "{}\n",
      "{}\n",
      "{}\n",
      "{}\n",
      "{}\n",
      "{}\n",
      "{}\n",
      "{}\n",
      "{}\n",
      "{}\n",
      "{}\n",
      "{}\n",
      "{}\n",
      "{}\n",
      "{}\n",
      "{}\n",
      "{}\n",
      "{}\n",
      "{}\n",
      "{}\n",
      "{}\n",
      "{}\n",
      "{}\n",
      "{}\n",
      "{}\n",
      "{}\n",
      "{}\n",
      "{}\n",
      "{}\n",
      "{}\n",
      "{}\n",
      "{}\n",
      "{}\n",
      "{}\n",
      "{}\n",
      "{}\n",
      "{}\n",
      "{}\n",
      "{}\n",
      "{}\n",
      "{}\n",
      "{}\n",
      "{}\n",
      "{}\n",
      "{}\n",
      "{}\n",
      "{}\n",
      "{}\n",
      "{}\n",
      "{}\n",
      "{}\n",
      "{}\n",
      "{}\n",
      "{}\n",
      "{}\n",
      "{}\n",
      "{}\n",
      "{}\n",
      "{}\n",
      "{}\n",
      "{}\n",
      "{}\n",
      "{}\n",
      "{}\n",
      "{}\n",
      "{}\n",
      "{}\n",
      "{}\n",
      "{}\n",
      "{}\n",
      "{}\n",
      "{}\n",
      "{}\n",
      "{}\n",
      "{}\n",
      "{}\n",
      "{}\n",
      "{}\n",
      "{}\n",
      "{}\n",
      "{}\n",
      "{}\n",
      "{}\n",
      "{}\n",
      "{}\n",
      "{}\n",
      "{}\n",
      "{}\n",
      "{}\n",
      "{}\n",
      "{}\n",
      "{}\n",
      "{}\n",
      "{}\n",
      "{}\n",
      "{}\n",
      "{}\n",
      "{}\n",
      "{}\n",
      "{}\n",
      "{}\n",
      "{}\n",
      "{}\n",
      "{}\n",
      "{}\n",
      "{}\n",
      "{}\n",
      "{}\n",
      "{}\n",
      "{}\n",
      "{}\n",
      "{}\n",
      "{}\n",
      "{}\n",
      "{}\n",
      "{}\n",
      "{}\n",
      "{}\n",
      "{}\n",
      "{}\n",
      "{}\n",
      "{}\n",
      "{}\n",
      "{}\n",
      "{}\n",
      "{}\n",
      "{}\n",
      "{}\n",
      "{}\n",
      "{}\n",
      "{}\n",
      "{}\n",
      "{}\n",
      "{}\n",
      "{}\n",
      "{}\n",
      "{}\n",
      "{}\n",
      "{}\n",
      "{}\n",
      "{}\n",
      "{}\n",
      "{}\n",
      "{}\n",
      "{}\n",
      "{}\n",
      "{}\n",
      "{}\n",
      "{}\n",
      "{}\n"
     ]
    }
   ],
   "source": [
    "import xml.etree.ElementTree as ET\n",
    "\n",
    "tree = ET.parse(\"mars_features.xml\")\n",
    "root = tree.getroot()\n",
    "\n",
    "features = []\n",
    "\n",
    "for child in root:\n",
    "    print(dict(child))"
   ],
   "metadata": {
    "collapsed": false,
    "pycharm": {
     "name": "#%%\n"
    }
   }
  }
 ],
 "metadata": {
  "kernelspec": {
   "display_name": "Python 3 (ipykernel)",
   "language": "python",
   "name": "python3"
  },
  "language_info": {
   "codemirror_mode": {
    "name": "ipython",
    "version": 3
   },
   "file_extension": ".py",
   "mimetype": "text/x-python",
   "name": "python",
   "nbconvert_exporter": "python",
   "pygments_lexer": "ipython3",
   "version": "3.9.10"
  }
 },
 "nbformat": 4,
 "nbformat_minor": 1
}