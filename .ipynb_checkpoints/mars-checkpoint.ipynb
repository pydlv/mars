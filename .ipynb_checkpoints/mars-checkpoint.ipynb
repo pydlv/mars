{
 "cells": [
  {
   "cell_type": "code",
   "execution_count": 1,
   "metadata": {
    "collapsed": true
   },
   "outputs": [],
   "source": [
    "from osgeo import gdal\n",
    "gdal.UseExceptions()\n",
    "\n",
    "ds: gdal.Dataset = gdal.Open(\"./mola_data.tif\")"
   ]
  },
  {
   "cell_type": "code",
   "execution_count": 2,
   "metadata": {
    "pycharm": {
     "name": "#%%\n"
    }
   },
   "outputs": [
    {
     "name": "stdout",
     "output_type": "stream",
     "text": [
      "Raster size: 46080 x 23040\n",
      "Min: -8061.0, Max: 20737.0, Mean: -726.008924660653, StdDev: 2970.779991089535\n"
     ]
    }
   ],
   "source": [
    "band: gdal.Band = ds.GetRasterBand(1)\n",
    "print(f\"Raster size: {band.XSize} x {band.YSize}\")\n",
    "\n",
    "minimum, maximum, mean, stddev = band.GetStatistics(True, True)\n",
    "\n",
    "print(f\"Min: {minimum}, Max: {maximum}, Mean: {mean}, StdDev: {stddev}\")"
   ]
  },
  {
   "cell_type": "code",
   "execution_count": 14,
   "metadata": {
    "pycharm": {
     "name": "#%%\n"
    }
   },
   "outputs": [],
   "source": [
    "import typing\n",
    "import struct\n",
    "\n",
    "def read_scanline(x_offset: int, y_offset: int, width: int) -> tuple[float]:\n",
    "    scanline = band.ReadRaster(\n",
    "        xoff=x_offset,\n",
    "        yoff=y_offset,\n",
    "        xsize=width,\n",
    "        ysize=1,\n",
    "        buf_xsize=width,\n",
    "        buf_ysize=1,\n",
    "        buf_type=gdal.GDT_Float32\n",
    "    )\n",
    "\n",
    "    return typing.cast(tuple[float], struct.unpack('f' * width, scanline))\n"
   ]
  },
  {
   "cell_type": "markdown",
   "metadata": {
    "pycharm": {
     "name": "#%% md\n"
    }
   },
   "source": [
    "For example, let's try to chart the elevation of a line through Olympus Mons:"
   ]
  },
  {
   "cell_type": "code",
   "execution_count": 15,
   "metadata": {
    "pycharm": {
     "name": "#%%\n"
    }
   },
   "outputs": [
    {
     "data": {
      "text/plain": [
       "[<matplotlib.lines.Line2D at 0x23152a32fd0>]"
      ]
     },
     "execution_count": 15,
     "metadata": {},
     "output_type": "execute_result"
    },
    {
     "data": {
      "image/png": "[encoded data removed]",
      "text/plain": [
       "<Figure size 432x288 with 1 Axes>"
      ]
     },
     "metadata": {
      "needs_background": "light"
     },
     "output_type": "display_data"
    }
   ],
   "source": [
    "from matplotlib import pyplot as plt\n",
    "\n",
    "start_x = 5135\n",
    "end_x = 6665\n",
    "start_y = 9188  # Approximately the middle of the mountain in terms of North/South\n",
    "\n",
    "line = read_scanline(start_x, start_y, end_x - start_x)\n",
    "\n",
    "plt.plot(line)"
   ]
  },
  {
   "cell_type": "code",
   "execution_count": 10,
   "metadata": {
    "pycharm": {
     "name": "#%%\n"
    }
   },
   "outputs": [
    {
     "data": {
      "text/plain": [
       "1"
      ]
     },
     "execution_count": 10,
     "metadata": {},
     "output_type": "execute_result"
    }
   ],
   "source": []
  }
 ],
 "metadata": {
  "kernelspec": {
   "display_name": "Python 3 (ipykernel)",
   "language": "python",
   "name": "python3"
  },
  "language_info": {
   "codemirror_mode": {
    "name": "ipython",
    "version": 3
   },
   "file_extension": ".py",
   "mimetype": "text/x-python",
   "name": "python",
   "nbconvert_exporter": "python",
   "pygments_lexer": "ipython3",
   "version": "3.9.10"
  }
 },
 "nbformat": 4,
 "nbformat_minor": 1
}
