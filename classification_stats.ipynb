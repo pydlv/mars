{
 "cells": [
  {
   "cell_type": "markdown",
   "source": [
    "## Background\n",
    "So now that we have generated our feature archetypes, we want to write a function to classify unknown cross-sections and find out which archetypes are the most useful."
   ],
   "metadata": {
    "collapsed": false
   }
  },
  {
   "cell_type": "code",
   "execution_count": 73,
   "metadata": {
    "collapsed": true
   },
   "outputs": [],
   "source": [
    "import importlib\n",
    "import random\n",
    "\n",
    "import archetypes\n",
    "from archetypes import load_from_file\n",
    "\n",
    "importlib.reload(archetypes)\n",
    "\n",
    "archetypes = load_from_file(\"archetypes.json\")\n",
    "archetypes = [a for a in archetypes.values() if a.feature_type in [\"Crater, craters\", \"Mons, montes\", \"Vallis, valles\"]]"
   ]
  },
  {
   "cell_type": "code",
   "execution_count": 76,
   "outputs": [],
   "source": [
    "from archetypes import Archetype\n",
    "import util\n",
    "importlib.reload(util)\n",
    "\n",
    "from util import generate_normalized_cross_sections, plot_cross_section\n",
    "import json\n",
    "import random\n",
    "\n",
    "feature_types_with_archetype = [a.feature_type for a in archetypes]\n",
    "\n",
    "with open(\"testing_features.json\", \"r\") as f:\n",
    "    data = f.read()\n",
    "\n",
    "testing_features = json.loads(data)\n",
    "\n",
    "# Filter out any testing features that we don't have an archetype for\n",
    "testing_features = [feature for feature in testing_features if feature[\"featuretype\"] in feature_types_with_archetype]\n",
    "\n",
    "def calc_avg_error(cross_section: util.CrossSection, archetype: Archetype):\n",
    "    total_error = 0.0\n",
    "\n",
    "    for x, y in archetype.line:\n",
    "        total_error += abs(y - util.get_y_value(cross_section, x))\n",
    "\n",
    "    return total_error / len(archetype.line)\n",
    "\n",
    "random.shuffle(testing_features)\n",
    "\n",
    "def make_prediction(feature: dict) -> str:\n",
    "    # print(feature[\"name\"], f\"({feature['featuretype']})\")\n",
    "\n",
    "    # Generate cross-sections\n",
    "    cross_sections = generate_normalized_cross_sections(feature)\n",
    "\n",
    "    # for cs in cross_sections:\n",
    "    #     plot_cross_section(cs)\n",
    "\n",
    "    results: list[tuple[Archetype, float]] = []\n",
    "\n",
    "    for archetype in archetypes:\n",
    "        total_error = 0.0\n",
    "\n",
    "        for cs in cross_sections:\n",
    "            total_error += calc_avg_error(cs, archetype)\n",
    "\n",
    "        avg_error = total_error / len(cross_sections)\n",
    "\n",
    "        results.append((archetype, avg_error))\n",
    "\n",
    "        # print(f\"Avg error for {archetype.feature_type}: {avg_error}\")\n",
    "\n",
    "    results.sort(key=lambda x: x[1])\n",
    "\n",
    "    # print(f\"Most likely feature type: {results[0][0].feature_type}\\n\")\n",
    "\n",
    "    return results[0][0].feature_type"
   ],
   "metadata": {
    "collapsed": false,
    "pycharm": {
     "name": "#%%\n"
    }
   }
  },
  {
   "cell_type": "code",
   "execution_count": 78,
   "outputs": [
    {
     "name": "stdout",
     "output_type": "stream",
     "text": [
      "Num testing features by feature type:\n",
      "Mons, montes: 15\n",
      "Crater, craters: 196\n",
      "Vallis, valles: 37\n"
     ]
    }
   ],
   "source": [
    "print(\"Num testing features by feature type:\")\n",
    "for archetype in archetypes:\n",
    "    print(f\"{archetype.feature_type}:\", len([i for i in testing_features if i[\"featuretype\"] == archetype.feature_type]))\n",
    "\n",
    "all_feature_types = set([i[\"featuretype\"] for i in testing_features])"
   ],
   "metadata": {
    "collapsed": false,
    "pycharm": {
     "name": "#%%\n"
    }
   }
  },
  {
   "cell_type": "code",
   "execution_count": 79,
   "outputs": [],
   "source": [
    "predictions: list[tuple[str, str]] = []\n",
    "\n",
    "for feature in testing_features:\n",
    "    prediction = make_prediction(feature)\n",
    "\n",
    "    predictions.append((feature[\"featuretype\"], prediction))\n"
   ],
   "metadata": {
    "collapsed": false,
    "pycharm": {
     "name": "#%%\n"
    }
   }
  },
  {
   "cell_type": "code",
   "execution_count": 86,
   "outputs": [
    {
     "data": {
      "text/plain": "<Figure size 648x648 with 2 Axes>",
      "image/png": "[encoded data removed]"
     },
     "metadata": {
      "needs_background": "light"
     },
     "output_type": "display_data"
    }
   ],
   "source": [
    "import pandas as pd\n",
    "from matplotlib import pyplot as plt\n",
    "from sklearn.metrics import ConfusionMatrixDisplay\n",
    "import seaborn as sns\n",
    "\n",
    "y_true, y_pred = zip(*predictions)\n",
    "\n",
    "from sklearn.metrics import confusion_matrix, plot_confusion_matrix\n",
    "\n",
    "cf = confusion_matrix(y_true, y_pred, normalize='true')\n",
    "\n",
    "ConfusionMatrixDisplay.from_predictions(y_true, y_pred, normalize='true', cmap=\"Blues\")\n",
    "\n",
    "#\n",
    "# ax = sns.heatmap(cf, annot=True, cmap='Blues')\n",
    "#\n",
    "# ax.set_title('Confusion Matrix\\n\\n')\n",
    "# ax.set_xlabel('\\nPredicted Values')\n",
    "# ax.set_ylabel('Actual Values ')\n",
    "\n",
    "## Ticket labels - List must be in alphabetical order\n",
    "# ax.xaxis.set_ticklabels(['False','True'])\n",
    "# ax.yaxis.set_ticklabels(['False','True'])\n",
    "\n",
    "## Display the visualization of the Confusion Matrix.\n",
    "plt.gcf().set_size_inches(9, 9)\n",
    "plt.show()"
   ],
   "metadata": {
    "collapsed": false,
    "pycharm": {
     "name": "#%%\n"
    }
   }
  },
  {
   "cell_type": "code",
   "execution_count": 72,
   "outputs": [],
   "source": [],
   "metadata": {
    "collapsed": false,
    "pycharm": {
     "name": "#%%\n"
    }
   }
  }
 ],
 "metadata": {
  "kernelspec": {
   "display_name": "Python 3",
   "language": "python",
   "name": "python3"
  },
  "language_info": {
   "codemirror_mode": {
    "name": "ipython",
    "version": 2
   },
   "file_extension": ".py",
   "mimetype": "text/x-python",
   "name": "python",
   "nbconvert_exporter": "python",
   "pygments_lexer": "ipython2",
   "version": "2.7.6"
  }
 },
 "nbformat": 4,
 "nbformat_minor": 0
}